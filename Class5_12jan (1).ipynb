{
 "cells": [
  {
   "cell_type": "code",
   "execution_count": 1,
   "metadata": {},
   "outputs": [],
   "source": [
    "import pandas as pd\n",
    "import numpy as np"
   ]
  },
  {
   "cell_type": "code",
   "execution_count": 2,
   "metadata": {},
   "outputs": [
    {
     "data": {
      "text/html": [
       "<div>\n",
       "<style scoped>\n",
       "    .dataframe tbody tr th:only-of-type {\n",
       "        vertical-align: middle;\n",
       "    }\n",
       "\n",
       "    .dataframe tbody tr th {\n",
       "        vertical-align: top;\n",
       "    }\n",
       "\n",
       "    .dataframe thead th {\n",
       "        text-align: right;\n",
       "    }\n",
       "</style>\n",
       "<table border=\"1\" class=\"dataframe\">\n",
       "  <thead>\n",
       "    <tr style=\"text-align: right;\">\n",
       "      <th></th>\n",
       "      <th>Name</th>\n",
       "      <th>Sex</th>\n",
       "      <th>Age</th>\n",
       "      <th>Height</th>\n",
       "      <th>Weight</th>\n",
       "    </tr>\n",
       "  </thead>\n",
       "  <tbody>\n",
       "    <tr>\n",
       "      <th>0</th>\n",
       "      <td>Alfred</td>\n",
       "      <td>M</td>\n",
       "      <td>14</td>\n",
       "      <td>69.0</td>\n",
       "      <td>112.5</td>\n",
       "    </tr>\n",
       "    <tr>\n",
       "      <th>1</th>\n",
       "      <td>Alice</td>\n",
       "      <td>F</td>\n",
       "      <td>13</td>\n",
       "      <td>56.5</td>\n",
       "      <td>84.0</td>\n",
       "    </tr>\n",
       "    <tr>\n",
       "      <th>2</th>\n",
       "      <td>Barbara</td>\n",
       "      <td>F</td>\n",
       "      <td>13</td>\n",
       "      <td>65.3</td>\n",
       "      <td>98.0</td>\n",
       "    </tr>\n",
       "    <tr>\n",
       "      <th>3</th>\n",
       "      <td>Carol</td>\n",
       "      <td>F</td>\n",
       "      <td>14</td>\n",
       "      <td>62.8</td>\n",
       "      <td>102.5</td>\n",
       "    </tr>\n",
       "    <tr>\n",
       "      <th>4</th>\n",
       "      <td>Henry</td>\n",
       "      <td>M</td>\n",
       "      <td>14</td>\n",
       "      <td>63.5</td>\n",
       "      <td>102.5</td>\n",
       "    </tr>\n",
       "    <tr>\n",
       "      <th>5</th>\n",
       "      <td>James</td>\n",
       "      <td>M</td>\n",
       "      <td>12</td>\n",
       "      <td>57.3</td>\n",
       "      <td>83.0</td>\n",
       "    </tr>\n",
       "    <tr>\n",
       "      <th>6</th>\n",
       "      <td>Jane</td>\n",
       "      <td>F</td>\n",
       "      <td>12</td>\n",
       "      <td>59.8</td>\n",
       "      <td>84.5</td>\n",
       "    </tr>\n",
       "    <tr>\n",
       "      <th>7</th>\n",
       "      <td>Janet</td>\n",
       "      <td>F</td>\n",
       "      <td>15</td>\n",
       "      <td>62.5</td>\n",
       "      <td>112.5</td>\n",
       "    </tr>\n",
       "    <tr>\n",
       "      <th>8</th>\n",
       "      <td>Jeffrey</td>\n",
       "      <td>M</td>\n",
       "      <td>13</td>\n",
       "      <td>62.5</td>\n",
       "      <td>84.0</td>\n",
       "    </tr>\n",
       "    <tr>\n",
       "      <th>9</th>\n",
       "      <td>John</td>\n",
       "      <td>M</td>\n",
       "      <td>12</td>\n",
       "      <td>59.0</td>\n",
       "      <td>99.5</td>\n",
       "    </tr>\n",
       "    <tr>\n",
       "      <th>10</th>\n",
       "      <td>Joyce</td>\n",
       "      <td>F</td>\n",
       "      <td>11</td>\n",
       "      <td>51.3</td>\n",
       "      <td>50.5</td>\n",
       "    </tr>\n",
       "    <tr>\n",
       "      <th>11</th>\n",
       "      <td>Judy</td>\n",
       "      <td>F</td>\n",
       "      <td>14</td>\n",
       "      <td>64.3</td>\n",
       "      <td>90.0</td>\n",
       "    </tr>\n",
       "    <tr>\n",
       "      <th>12</th>\n",
       "      <td>Louise</td>\n",
       "      <td>F</td>\n",
       "      <td>12</td>\n",
       "      <td>56.3</td>\n",
       "      <td>77.0</td>\n",
       "    </tr>\n",
       "    <tr>\n",
       "      <th>13</th>\n",
       "      <td>Mary</td>\n",
       "      <td>F</td>\n",
       "      <td>15</td>\n",
       "      <td>66.5</td>\n",
       "      <td>112.0</td>\n",
       "    </tr>\n",
       "    <tr>\n",
       "      <th>14</th>\n",
       "      <td>Philip</td>\n",
       "      <td>M</td>\n",
       "      <td>16</td>\n",
       "      <td>72.0</td>\n",
       "      <td>150.0</td>\n",
       "    </tr>\n",
       "    <tr>\n",
       "      <th>15</th>\n",
       "      <td>Robert</td>\n",
       "      <td>M</td>\n",
       "      <td>12</td>\n",
       "      <td>64.8</td>\n",
       "      <td>128.0</td>\n",
       "    </tr>\n",
       "    <tr>\n",
       "      <th>16</th>\n",
       "      <td>Ronald</td>\n",
       "      <td>M</td>\n",
       "      <td>15</td>\n",
       "      <td>67.0</td>\n",
       "      <td>133.0</td>\n",
       "    </tr>\n",
       "    <tr>\n",
       "      <th>17</th>\n",
       "      <td>Thomas</td>\n",
       "      <td>M</td>\n",
       "      <td>11</td>\n",
       "      <td>57.5</td>\n",
       "      <td>85.0</td>\n",
       "    </tr>\n",
       "    <tr>\n",
       "      <th>18</th>\n",
       "      <td>William</td>\n",
       "      <td>M</td>\n",
       "      <td>15</td>\n",
       "      <td>66.5</td>\n",
       "      <td>112.0</td>\n",
       "    </tr>\n",
       "  </tbody>\n",
       "</table>\n",
       "</div>"
      ],
      "text/plain": [
       "       Name Sex  Age  Height  Weight\n",
       "0    Alfred   M   14    69.0   112.5\n",
       "1     Alice   F   13    56.5    84.0\n",
       "2   Barbara   F   13    65.3    98.0\n",
       "3     Carol   F   14    62.8   102.5\n",
       "4     Henry   M   14    63.5   102.5\n",
       "5     James   M   12    57.3    83.0\n",
       "6      Jane   F   12    59.8    84.5\n",
       "7     Janet   F   15    62.5   112.5\n",
       "8   Jeffrey   M   13    62.5    84.0\n",
       "9      John   M   12    59.0    99.5\n",
       "10    Joyce   F   11    51.3    50.5\n",
       "11     Judy   F   14    64.3    90.0\n",
       "12   Louise   F   12    56.3    77.0\n",
       "13     Mary   F   15    66.5   112.0\n",
       "14   Philip   M   16    72.0   150.0\n",
       "15   Robert   M   12    64.8   128.0\n",
       "16   Ronald   M   15    67.0   133.0\n",
       "17   Thomas   M   11    57.5    85.0\n",
       "18  William   M   15    66.5   112.0"
      ]
     },
     "execution_count": 2,
     "metadata": {},
     "output_type": "execute_result"
    }
   ],
   "source": [
    "std=pd.read_csv('C:\\Python\\Simplilearn\\student.csv')\n",
    "std"
   ]
  },
  {
   "cell_type": "code",
   "execution_count": 180,
   "metadata": {},
   "outputs": [
    {
     "data": {
      "text/plain": [
       "62.8"
      ]
     },
     "execution_count": 180,
     "metadata": {},
     "output_type": "execute_result"
    }
   ],
   "source": [
    "# To get the median\n",
    "std.Height.median()"
   ]
  },
  {
   "cell_type": "code",
   "execution_count": 184,
   "metadata": {},
   "outputs": [
    {
     "data": {
      "text/plain": [
       "0    62.5\n",
       "1    66.5\n",
       "dtype: float64"
      ]
     },
     "execution_count": 184,
     "metadata": {},
     "output_type": "execute_result"
    }
   ],
   "source": [
    "# To get the mode\n",
    "std.Height.mode()"
   ]
  },
  {
   "cell_type": "code",
   "execution_count": 182,
   "metadata": {},
   "outputs": [
    {
     "data": {
      "text/plain": [
       "5.127075246648456"
      ]
     },
     "execution_count": 182,
     "metadata": {},
     "output_type": "execute_result"
    }
   ],
   "source": [
    "# To get the standard dev\n",
    "std.Height.std()"
   ]
  },
  {
   "cell_type": "code",
   "execution_count": 189,
   "metadata": {
    "collapsed": true
   },
   "outputs": [
    {
     "data": {
      "text/plain": [
       "array([0.10148804, 0.91329575, 0.67871315, 0.44598139, 0.30977869,\n",
       "       0.1032696 , 0.33724891, 0.62849909, 0.55859806, 0.82384395,\n",
       "       0.10882595, 0.46071217, 0.19624811, 0.9847186 , 0.23750198,\n",
       "       0.74258732, 0.19549004, 0.3231257 , 0.94912612, 0.59807992,\n",
       "       0.76438428, 0.13741106, 0.66182075, 0.25125358, 0.92331215,\n",
       "       0.15126825, 0.51928498, 0.13382084, 0.99518198, 0.97838545,\n",
       "       0.12901016, 0.48565745, 0.01686493, 0.02596717, 0.46082243,\n",
       "       0.63467561, 0.25325733, 0.02863094, 0.98184264, 0.7215718 ,\n",
       "       0.28353603, 0.68855244, 0.46485864, 0.62456009, 0.72405113,\n",
       "       0.3428022 , 0.35229053, 0.70374583, 0.91290772, 0.97224434,\n",
       "       0.07384246, 0.562748  , 0.2327442 , 0.35971632, 0.54575633,\n",
       "       0.83135227, 0.47503363, 0.47216437, 0.95710154, 0.31040875,\n",
       "       0.82322569, 0.43579439, 0.47365289, 0.46351529, 0.70347301,\n",
       "       0.69902593, 0.71698368, 0.86528413, 0.04589403, 0.99265595,\n",
       "       0.15948111, 0.79888127, 0.36942204, 0.51756984, 0.21587699,\n",
       "       0.26356171, 0.72347468, 0.38330989, 0.43608164, 0.53830527,\n",
       "       0.7505953 , 0.72247344, 0.91543647, 0.60556088, 0.05327681,\n",
       "       0.49706516, 0.15600592, 0.32596767, 0.66269527, 0.20420299,\n",
       "       0.14417927, 0.00159431, 0.50270576, 0.15605088, 0.0443194 ,\n",
       "       0.19927355, 0.15502232, 0.85639992, 0.2035111 , 0.29765597])"
      ]
     },
     "execution_count": 189,
     "metadata": {},
     "output_type": "execute_result"
    }
   ],
   "source": [
    "# get a random sample of 5 numbers\n",
    "np.random.random_sample(100)\n"
   ]
  },
  {
   "cell_type": "code",
   "execution_count": 59,
   "metadata": {},
   "outputs": [],
   "source": [
    "import scipy.stats as st\n",
    "import numpy as np"
   ]
  },
  {
   "cell_type": "code",
   "execution_count": null,
   "metadata": {},
   "outputs": [],
   "source": [
    "st.norm.pdf"
   ]
  },
  {
   "cell_type": "code",
   "execution_count": 198,
   "metadata": {
    "collapsed": true
   },
   "outputs": [
    {
     "data": {
      "text/plain": [
       "array([32.32620957, 17.35745803, 19.41435609, 36.723788  , 23.11703323,\n",
       "       23.62083175, 29.24369228, 23.61046605, 27.73328108, 24.54795089,\n",
       "       25.62512139, 23.00676786, 22.01010733, 17.71976709, 30.1006465 ,\n",
       "       30.35187859, 36.88412009, 26.94171652, 33.50975618, 19.66930528,\n",
       "       19.80147904, 24.37522647, 18.80992377, 21.12826501, 18.66662469,\n",
       "       25.10619969, 28.92040945, 28.75636751, 25.98927041, 29.41925961,\n",
       "       31.80584386, 20.87922541, 26.23556047, 27.0291833 , 26.0467782 ,\n",
       "       21.64688128, 26.38883318, 20.56645708, 21.66858929, 25.21426098,\n",
       "       28.68150271, 27.97206872, 29.69992472, 27.17139319, 32.68536446,\n",
       "       28.45164328, 36.48104298, 16.35679333, 22.37840444, 20.9080089 ,\n",
       "       22.45677022, 24.19057883, 25.66761756, 27.14189304, 26.03318651,\n",
       "       16.90640718, 23.98926584, 22.25362045, 18.00500512, 17.39144235,\n",
       "       30.58882732, 30.24789083, 27.36059892, 26.85388517, 19.88063166,\n",
       "       13.70119772, 28.37041086, 33.12912115, 18.86768182, 22.22642598,\n",
       "       27.66100417, 23.65838345, 24.87367407, 20.14476475, 18.47803834,\n",
       "       33.72202846, 25.45673773, 23.69328008, 26.6325487 , 32.67811163,\n",
       "       26.21243724, 31.89214185, 20.80808209, 31.16110878, 29.96573346,\n",
       "       26.18631969, 24.85862618, 36.39713396, 27.3207255 , 17.50890157,\n",
       "       25.9147679 , 20.41537539, 22.76862826, 37.6417424 , 34.28401781,\n",
       "       17.77772965, 20.70222273, 19.06408378, 31.04602516, 22.54177278,\n",
       "       28.72414792, 20.02842844, 26.05202221, 21.95479873, 39.32013728,\n",
       "       20.1489059 , 23.21257398, 32.10902587, 23.75560006, 25.92016027,\n",
       "       37.05596582, 26.14548248, 27.12689074, 24.52180796, 21.88988891,\n",
       "       29.96550396, 23.6554298 , 28.77068907, 19.10766138, 23.05328786,\n",
       "       20.15263444, 26.71066724, 20.59202423, 24.89865727, 27.10359633,\n",
       "       33.0945593 , 11.43545131, 22.62339508, 24.20651817, 27.12002634,\n",
       "       24.18415901, 32.3942441 , 27.09211391, 24.90503604, 22.16663865,\n",
       "       29.62427996, 17.93830094, 22.7986401 , 21.90982458, 20.96728888,\n",
       "       25.43261805, 31.2053136 , 24.40435312, 24.76841805, 28.3222785 ,\n",
       "       22.77367819, 14.87852665, 21.06404967, 33.00119841, 21.44418282,\n",
       "       36.12420207, 25.7931204 , 21.29832824, 20.96211356, 22.33189207,\n",
       "       27.75768999, 22.76585559, 23.83994299, 24.00962967, 24.32627848,\n",
       "       24.41353072, 26.83235799, 24.25210584, 23.86468424, 17.48275927,\n",
       "       28.76457518, 21.27918118, 32.74283145, 31.46089182, 28.81339692,\n",
       "       24.02827862, 28.47234083, 23.70992173, 25.31170739, 32.35512398,\n",
       "       33.5743723 , 20.13797615, 36.37616479, 27.20590989, 24.93283398,\n",
       "       18.33962645, 30.31769163, 28.51762596, 22.50262056, 21.40411232,\n",
       "       19.78579917, 21.54271129, 28.27257345, 26.10477775, 24.68917937,\n",
       "       29.05199021, 22.27025787, 22.03271405, 15.13335549, 24.14662293,\n",
       "       32.73023509, 28.87594076, 31.13024542, 23.69255806, 29.1246205 ,\n",
       "       25.01761054, 29.50329434, 25.94479525, 26.5922363 , 26.34738604,\n",
       "       22.4601884 , 21.77733765, 23.92704732, 27.85465748, 24.30909015,\n",
       "       24.33511645, 26.99486612, 29.37950504, 27.98330508, 27.79528478,\n",
       "       24.92905203, 19.59154584, 31.25707346, 26.30807655, 22.62855337,\n",
       "       29.49404986, 29.71857755, 20.87701955, 20.80677498, 28.34329923,\n",
       "       25.40837192, 22.69271745, 21.10698193, 16.85604417, 19.34661805,\n",
       "       20.89624527, 25.90814579, 32.46424728, 27.6770175 , 27.35960351,\n",
       "       27.36277075, 21.46490259, 27.86139619, 22.25609784, 19.7002539 ,\n",
       "       23.04967406, 28.30969947, 21.8546478 , 23.9797616 , 33.54629526,\n",
       "       30.08410328, 20.32508992, 30.48724176, 22.4530604 , 19.85736485,\n",
       "       22.56356952, 22.72342217, 18.22553433, 28.30612913, 28.65622674,\n",
       "       18.62909388, 16.85906417, 21.46045004, 16.14457859, 22.31313229,\n",
       "       18.7970401 , 30.67611882, 28.0738373 , 30.19809764, 22.03797753,\n",
       "       31.13084255, 19.03091665, 24.82273316, 30.83162771, 21.9761709 ,\n",
       "       26.33742463, 22.50981316, 25.72396197, 24.37118335, 28.16335289,\n",
       "       31.10205239, 31.73494211, 27.15611874, 26.10345112, 24.42360659,\n",
       "       26.92134352, 21.5453252 , 29.23853281, 29.00125932, 20.56956887,\n",
       "       37.77888444, 26.8751401 , 18.97290311, 30.03553401, 19.5924393 ,\n",
       "       26.32224337, 28.28937087, 24.16984254, 33.7932079 , 27.83551692,\n",
       "       32.96305603, 16.41492367, 30.14399251, 28.669409  , 30.20756671,\n",
       "       18.88953687, 18.57386216, 21.78113309, 28.30528702, 32.03460133,\n",
       "       20.63808823, 23.48114936, 25.37713909, 28.96748957, 27.61358163,\n",
       "       26.50645363, 24.30910697, 22.51711235, 30.6086577 , 24.90664565,\n",
       "       17.35165201, 28.16902724, 29.69434592, 17.83270261, 29.41990281,\n",
       "       22.58099387, 26.83441631, 17.38407943, 24.46042059, 17.15788403,\n",
       "       27.32543198, 22.53073907, 25.71337854, 28.0623886 , 31.61769113,\n",
       "       32.0031521 , 22.56169205, 27.11770786, 26.98008962, 25.78788719,\n",
       "       24.09600897, 23.2655234 , 30.10758467, 28.43240301, 31.88326654,\n",
       "       31.93621523, 33.7198261 , 31.96317546, 26.76571797, 21.53182932,\n",
       "       20.86553791, 20.76183479, 25.66970762, 26.83486879, 26.27590061,\n",
       "       25.03834411, 22.71030947, 32.09198863, 32.08291   , 27.76690019,\n",
       "       29.66103988, 27.10417112, 22.74439153, 30.59515454, 23.30056977,\n",
       "       32.71256689, 20.68112184, 29.43858809, 26.72516795, 25.26186613,\n",
       "       15.24923331, 14.9788639 , 27.68669151, 26.83423404, 24.56654937,\n",
       "       30.59311185, 28.84815455, 31.67988293, 35.37141391, 31.2485923 ,\n",
       "       25.05992387, 23.49982569, 21.82284264, 25.14248331, 24.91720906,\n",
       "       20.7318518 , 31.49715463, 25.87031175, 21.47441894, 26.27636403,\n",
       "       28.34261912, 34.41209227, 18.36647801, 30.08684695, 26.96004759,\n",
       "       25.68324059, 26.53115244, 23.05448844, 21.47433094, 24.53979211,\n",
       "       26.10829301, 29.63538324, 29.99750336, 32.16730776, 22.03735052,\n",
       "       29.20928462, 23.19813828, 17.54801394, 25.52395718, 29.94100638,\n",
       "       25.86308717, 28.4510154 , 21.98662203, 30.24625034, 19.16623965,\n",
       "       24.52227941, 27.62378308, 21.89539125, 26.59796166, 29.76031427,\n",
       "       14.94750208, 20.87034029, 23.83740325, 26.09922339, 25.39334578,\n",
       "       31.66310282, 20.28027667, 31.945648  , 25.14618618, 29.5777255 ,\n",
       "       24.9061529 , 25.6486447 , 21.4050216 , 29.40391995, 23.53880284,\n",
       "       29.6478041 , 28.18456887, 31.06691271, 16.69450478, 30.17660244,\n",
       "       25.46538299, 22.41304215, 26.06130035, 26.04511961, 28.2237876 ,\n",
       "       20.61347319, 25.20420941, 22.5440401 , 18.12141316, 26.95456228,\n",
       "       30.59588977, 28.20176388, 28.88138844, 26.16565408, 21.99937942,\n",
       "       31.59743882, 24.5477208 , 25.96894117, 11.04188654, 24.80245683,\n",
       "       20.20072557, 19.15455223, 30.47292002, 28.5345842 , 24.97819346,\n",
       "       25.27872006, 29.09297111, 32.82700136, 24.04721099, 30.58161165,\n",
       "       30.64305821, 30.81073718, 25.18045251, 20.33208985, 35.85557893,\n",
       "       16.4368578 , 24.57733426, 22.44805423, 16.36067516, 32.03314811,\n",
       "       24.54604723, 28.41368976, 31.12577968, 24.95587408, 21.32555883,\n",
       "       29.43013973, 34.15642794, 18.96659718, 34.73676969, 24.4458512 ,\n",
       "       27.28430337, 28.61079741, 29.76731554, 17.67002161, 20.90178959,\n",
       "       27.00833745, 22.74927498, 30.55789613, 20.66393761, 24.38622602,\n",
       "       25.85537644, 22.79251679, 22.66871092, 30.56255834, 18.25944378,\n",
       "       33.53010519, 29.43205059, 24.58882408, 28.87638862, 25.29167541,\n",
       "       22.53125323, 26.11829642, 31.62805645, 25.6882376 , 25.56516859,\n",
       "       27.46739245, 30.89699698, 24.87577278, 31.97298914, 31.91304533,\n",
       "       27.5265392 , 14.20260208, 24.1024783 , 33.43581619, 23.68311325,\n",
       "       25.52475268, 25.14790055, 28.44562164, 26.32430857, 30.5187092 ,\n",
       "       28.17252064, 23.07214111, 27.19065534, 33.34998196, 22.30502258,\n",
       "       28.4760867 , 32.73460295, 31.37005792, 27.50118767, 25.35714349,\n",
       "       23.80931927, 23.90171313, 25.41556115, 15.33984133, 28.22423257,\n",
       "       28.73381989, 27.11579444, 21.76033738, 19.19704541, 24.03185946,\n",
       "       31.90364428, 20.5215426 , 26.86821977, 25.10822576, 21.13044811,\n",
       "       21.41267812, 22.20024409, 20.14042095, 25.2597569 , 28.77308285,\n",
       "       27.2567897 , 23.45057384, 18.46911264, 17.80967809, 22.89010823,\n",
       "       33.48677936, 21.65027698, 16.24242679, 30.08306079, 31.72843699,\n",
       "       16.10434468, 21.7431074 , 21.45518693, 25.77998106, 26.66336806,\n",
       "       34.24405801, 19.61687639, 22.89813798, 30.16224581, 19.27742813,\n",
       "       24.5891055 , 30.48440557, 21.80813473, 27.08961056, 25.60204996,\n",
       "       25.9777537 , 11.06085541, 31.70590305, 24.90784444, 30.31317131,\n",
       "       30.95772911, 23.02905155, 22.36298073, 21.68152783, 24.70976373,\n",
       "       28.01797565, 31.56850386, 30.13632917, 14.38017925, 30.28540072,\n",
       "       27.368985  , 22.30856833, 22.40445831, 22.32791513, 31.19782908,\n",
       "       28.00273317, 22.18307643, 21.59102757, 26.27177096, 28.25807496,\n",
       "       31.49875322, 21.36605846, 26.91466657, 25.25574706, 22.65499656,\n",
       "       27.20402944, 29.16487611, 26.03277105, 27.49616771, 17.86209279,\n",
       "       16.3436175 , 17.9376211 , 24.18612584, 23.64031266, 35.94847795,\n",
       "       17.95016574, 15.09811171, 35.46310965, 25.54490125, 27.91382432,\n",
       "       36.29217226, 20.63404114, 18.33531478, 18.42950013, 24.86199707,\n",
       "       21.75185864, 28.87942493, 24.06652389, 23.13933772, 24.27733252,\n",
       "       22.10030704, 26.81137528, 25.20865726, 28.51954001, 23.43094002,\n",
       "       17.1612876 , 18.96418507, 28.77087175, 20.52157935, 18.45081184,\n",
       "       24.12296823, 33.11847437, 23.64428168, 25.82616441, 28.63983571,\n",
       "       28.55193694, 25.72791018, 24.64844908, 23.85973533, 17.53973399,\n",
       "       26.80823751, 28.94486073, 26.92889162, 29.99631133, 22.11773721,\n",
       "       17.33582075, 26.77471091, 29.48801314, 25.54286654, 27.44459686,\n",
       "       22.72906862, 33.57052902, 23.12792275, 33.37665619, 21.80184702,\n",
       "       28.40217713, 30.6674621 , 12.97599741, 20.40666324, 16.08348479,\n",
       "       29.00635593, 15.90030305, 34.06461699, 26.17267411, 24.66541085,\n",
       "       24.79078883, 27.27717447, 27.456724  , 30.5025223 , 35.56975255,\n",
       "       14.7026178 , 25.70327654, 25.48545498, 24.99046398, 21.49013595,\n",
       "       24.03045061, 23.54726276, 22.93574302, 25.68687849, 24.19922146,\n",
       "       36.32812218, 16.74908343, 25.79528856, 19.81080269, 26.12139607,\n",
       "       21.81672188, 27.53980743, 27.58330143, 26.54125549, 29.08884085,\n",
       "       29.20360799, 21.23813005, 24.17411407, 41.68917545, 27.19653057,\n",
       "       28.20097451, 28.54836678, 21.92484166, 28.3544995 , 23.04288756,\n",
       "       25.02881057, 30.17012965, 24.88155665, 24.87806417, 23.2126125 ,\n",
       "       21.44850102, 18.06625097, 36.58436271, 33.95666889, 23.09760147,\n",
       "       17.2916658 , 25.15052457, 31.07112849, 26.77462054, 30.34897843,\n",
       "       26.33998006, 34.06756256, 16.20954233, 28.76883317, 19.8468142 ,\n",
       "       33.18791626, 20.84239748, 23.50998334, 15.962609  , 24.97715342,\n",
       "       21.49199231, 21.07241921, 23.66280844, 23.98899324, 16.8563685 ,\n",
       "       26.31174651, 40.40564361, 17.3687774 , 30.81855541, 27.75062625,\n",
       "       26.27253981, 23.10399325, 16.3173781 , 25.82651682, 19.0679583 ,\n",
       "       24.40623413, 32.93959769, 26.97013381, 27.16142787, 29.53056843,\n",
       "       26.68436101, 31.85617829, 30.60311715, 18.85429272, 21.31453961,\n",
       "       25.18716687, 21.6775142 , 33.4429694 , 28.37355188, 33.98803431,\n",
       "       31.71745901, 31.46788917, 17.56089966, 28.19277398, 29.21613356,\n",
       "       21.66212409, 29.27811484, 32.03781629, 31.2738276 , 21.0567135 ,\n",
       "       20.49619603, 26.59008956, 18.52224909, 32.04670099, 32.19411297,\n",
       "       29.05327762, 33.81279613, 24.73321992, 21.22416164, 23.70894986,\n",
       "       20.03887387, 27.72535085, 24.61973429, 20.37689999, 15.24008129,\n",
       "       17.44703167, 28.15120509, 31.28218677, 33.8054649 , 19.79358813,\n",
       "       23.04172888, 18.35464359, 22.98005925, 19.81135506, 29.44295297,\n",
       "       25.11768413, 30.64972499, 24.99752864, 23.26930438, 26.2036962 ,\n",
       "       28.1922519 , 16.46354626, 31.17890626, 31.26583231, 30.82616019,\n",
       "       34.60036485, 31.7291909 , 21.14232992, 27.95891297, 22.58854576,\n",
       "       30.94450696, 16.56612979, 21.62952566, 29.54134067, 20.08375215,\n",
       "       16.21258759, 24.59994759, 22.63667695, 19.63131071, 27.05927545,\n",
       "       23.217025  , 24.51273958, 22.2532022 , 14.4914105 , 19.78387743,\n",
       "       24.11995632, 24.6106197 , 29.0052187 , 28.00512531, 24.76836752,\n",
       "       30.26675685, 25.6328447 , 21.56895273, 24.94475353, 31.29223861,\n",
       "       23.68749804, 31.60933522, 21.63611525, 25.15471075, 25.1295238 ,\n",
       "       24.37635705, 28.05646388, 33.63666555, 29.7077674 , 27.1562404 ,\n",
       "       20.04502594, 19.72484423, 18.26058754, 29.61353776, 11.47397588,\n",
       "       23.6732011 , 29.50687697, 16.04725909, 26.95251581, 19.44259624,\n",
       "       26.65277561, 27.37284783, 24.4685248 , 35.11877661, 24.87399961,\n",
       "       33.56529316, 18.72233079, 19.15926286, 28.09748191, 23.22258824,\n",
       "       13.91445752, 25.55170827, 27.93861057, 29.23756033, 28.88609982,\n",
       "       27.94479276, 29.34366348, 26.453246  , 24.7921606 , 24.51951696,\n",
       "       34.01754077, 31.54788566, 18.06424691, 29.43096162, 20.2812371 ,\n",
       "       17.5891674 , 24.48798896, 22.21285194, 24.71591367, 17.95355776,\n",
       "       26.12560482, 26.06572146, 26.35367753, 27.15166005, 26.17349161,\n",
       "       29.01921935, 32.73046589, 25.6522029 , 14.20802737, 20.27120836,\n",
       "       19.39802862, 22.86825694, 18.20181936, 29.4395737 , 33.90082384,\n",
       "       23.51841289, 25.47077199, 28.77026357, 27.25512146, 27.4235728 ,\n",
       "       11.94303332, 23.94829407, 12.54342353, 37.3161116 , 22.9296536 ,\n",
       "       28.78544059, 29.58946912, 26.00645539,  8.13491405, 32.65487618,\n",
       "       31.89282365, 24.24861384, 21.50977435, 19.55613635, 17.04191977,\n",
       "       23.50153399, 25.99184239, 16.78185899, 22.29468362, 21.37426542,\n",
       "       23.4324508 , 25.28132894, 21.45514624, 26.30015155, 28.88936655,\n",
       "       33.36452365, 23.79325898, 18.3992531 , 25.37842658, 25.15702911,\n",
       "       19.114294  , 26.90386495, 20.81191934, 18.83370137, 18.4447177 ,\n",
       "       26.82000729, 27.72367242, 22.91442301, 28.08876116, 20.72463212,\n",
       "       22.25928329, 28.25029181, 26.05873022, 26.91923913, 21.61999945,\n",
       "       33.66209926, 26.31613344, 34.91941319, 28.52386865, 25.33683809,\n",
       "       28.20015679, 25.44334491, 24.68820694, 28.8736012 , 23.89723731,\n",
       "       22.4323268 , 23.35065175, 32.97345938, 23.09832006, 24.0507534 ,\n",
       "       25.65418007, 13.47523288, 27.42606272, 28.15551207, 21.0291006 ,\n",
       "       21.15877193, 21.52427636, 23.0347906 , 22.50762069, 18.50626062,\n",
       "       25.60167834, 33.37473434, 29.29442215, 19.25469756, 20.62692398,\n",
       "       25.86248825, 25.38000882, 31.69938604, 33.09261746, 24.44083841,\n",
       "       34.31555135, 32.89441409, 16.69214353, 28.13197694, 28.3148531 ])"
      ]
     },
     "execution_count": 198,
     "metadata": {},
     "output_type": "execute_result"
    }
   ],
   "source": [
    "# how to generate random nos\n",
    "a=np.random.normal(loc=25,scale=5,size=1000)\n",
    "a"
   ]
  },
  {
   "cell_type": "code",
   "execution_count": 192,
   "metadata": {},
   "outputs": [],
   "source": [
    "import seaborn as sns"
   ]
  },
  {
   "cell_type": "code",
   "execution_count": 199,
   "metadata": {},
   "outputs": [
    {
     "name": "stderr",
     "output_type": "stream",
     "text": [
      "C:\\Users\\Prateek\\AppData\\Local\\Continuum\\anaconda3\\lib\\site-packages\\matplotlib\\axes\\_axes.py:6462: UserWarning: The 'normed' kwarg is deprecated, and has been replaced by the 'density' kwarg.\n",
      "  warnings.warn(\"The 'normed' kwarg is deprecated, and has been \"\n"
     ]
    },
    {
     "data": {
      "text/plain": [
       "<matplotlib.axes._subplots.AxesSubplot at 0x273a3a85080>"
      ]
     },
     "execution_count": 199,
     "metadata": {},
     "output_type": "execute_result"
    },
    {
     "data": {
      "image/png": "[encoded data removed]",
      "text/plain": [
       "<Figure size 432x288 with 1 Axes>"
      ]
     },
     "metadata": {},
     "output_type": "display_data"
    }
   ],
   "source": [
    "sns.distplot(a)"
   ]
  },
  {
   "cell_type": "code",
   "execution_count": 197,
   "metadata": {},
   "outputs": [
    {
     "data": {
      "text/plain": [
       "<matplotlib.axes._subplots.AxesSubplot at 0x273a3adeba8>"
      ]
     },
     "execution_count": 197,
     "metadata": {},
     "output_type": "execute_result"
    },
    {
     "data": {
      "image/png": "[encoded data removed]",
      "text/plain": [
       "<Figure size 432x288 with 1 Axes>"
      ]
     },
     "metadata": {},
     "output_type": "display_data"
    }
   ],
   "source": [
    "sns.distplot(a,hist=False)"
   ]
  },
  {
   "cell_type": "code",
   "execution_count": 3,
   "metadata": {},
   "outputs": [],
   "source": [
    "b=np.random.normal(loc=25,scale=5,size=1000)"
   ]
  },
  {
   "cell_type": "code",
   "execution_count": 4,
   "metadata": {},
   "outputs": [
    {
     "data": {
      "text/plain": [
       "0.042022880605092884"
      ]
     },
     "execution_count": 4,
     "metadata": {},
     "output_type": "execute_result"
    }
   ],
   "source": [
    "b=np.random.normal(loc=0,scale=1,size=1000)\n",
    "b.mean()"
   ]
  },
  {
   "cell_type": "code",
   "execution_count": 9,
   "metadata": {},
   "outputs": [
    {
     "data": {
      "text/plain": [
       "0.055449344585754866"
      ]
     },
     "execution_count": 9,
     "metadata": {},
     "output_type": "execute_result"
    }
   ],
   "source": [
    "np.median(b)"
   ]
  },
  {
   "cell_type": "code",
   "execution_count": 13,
   "metadata": {},
   "outputs": [
    {
     "data": {
      "text/plain": [
       "ModeResult(mode=array([-2.86354599]), count=array([1]))"
      ]
     },
     "execution_count": 13,
     "metadata": {},
     "output_type": "execute_result"
    }
   ],
   "source": [
    "from scipy import stats\n",
    "stats.mode(b)"
   ]
  },
  {
   "cell_type": "code",
   "execution_count": 11,
   "metadata": {},
   "outputs": [
    {
     "data": {
      "text/plain": [
       "0.042022880605092884"
      ]
     },
     "execution_count": 11,
     "metadata": {},
     "output_type": "execute_result"
    }
   ],
   "source": [
    "np.mean(b)"
   ]
  },
  {
   "cell_type": "code",
   "execution_count": null,
   "metadata": {},
   "outputs": [],
   "source": []
  },
  {
   "cell_type": "code",
   "execution_count": 106,
   "metadata": {},
   "outputs": [
    {
     "data": {
      "text/plain": [
       "<matplotlib.axes._subplots.AxesSubplot at 0x273a3209c18>"
      ]
     },
     "execution_count": 106,
     "metadata": {},
     "output_type": "execute_result"
    },
    {
     "data": {
      "image/png": "[encoded data removed]",
      "text/plain": [
       "<Figure size 432x288 with 1 Axes>"
      ]
     },
     "metadata": {},
     "output_type": "display_data"
    }
   ],
   "source": [
    "sns.distplot(b,hist=False)"
   ]
  },
  {
   "cell_type": "code",
   "execution_count": 209,
   "metadata": {},
   "outputs": [
    {
     "name": "stdout",
     "output_type": "stream",
     "text": [
      "Help on method cdf in module scipy.stats._distn_infrastructure:\n",
      "\n",
      "cdf(x, *args, **kwds) method of scipy.stats._continuous_distns.norm_gen instance\n",
      "    Cumulative distribution function of the given RV.\n",
      "    \n",
      "    Parameters\n",
      "    ----------\n",
      "    x : array_like\n",
      "        quantiles\n",
      "    arg1, arg2, arg3,... : array_like\n",
      "        The shape parameter(s) for the distribution (see docstring of the\n",
      "        instance object for more information)\n",
      "    loc : array_like, optional\n",
      "        location parameter (default=0)\n",
      "    scale : array_like, optional\n",
      "        scale parameter (default=1)\n",
      "    \n",
      "    Returns\n",
      "    -------\n",
      "    cdf : ndarray\n",
      "        Cumulative distribution function evaluated at `x`\n",
      "\n"
     ]
    }
   ],
   "source": []
  },
  {
   "cell_type": "code",
   "execution_count": 206,
   "metadata": {},
   "outputs": [
    {
     "data": {
      "text/plain": [
       "0.5"
      ]
     },
     "execution_count": 206,
     "metadata": {},
     "output_type": "execute_result"
    }
   ],
   "source": [
    "# cumulative density function - area to the left of x\n",
    "st.norm.cdf(25,loc=25,scale=5)"
   ]
  },
  {
   "cell_type": "code",
   "execution_count": 170,
   "metadata": {},
   "outputs": [
    {
     "data": {
      "text/plain": [
       "0.07978845608028654"
      ]
     },
     "execution_count": 170,
     "metadata": {},
     "output_type": "execute_result"
    }
   ],
   "source": [
    "# probability density function - area at the point\n",
    "st.norm.pdf(25,loc=25,scale=5)"
   ]
  },
  {
   "cell_type": "code",
   "execution_count": 56,
   "metadata": {},
   "outputs": [
    {
     "data": {
      "text/plain": [
       "22.377997436459797"
      ]
     },
     "execution_count": 56,
     "metadata": {},
     "output_type": "execute_result"
    }
   ],
   "source": [
    "# ppf=point percentile function\n",
    "# it gives the corresponding value of x for a given prob\n",
    "st.norm.ppf(0.3,loc=25,scale=5)\n"
   ]
  },
  {
   "cell_type": "code",
   "execution_count": 54,
   "metadata": {},
   "outputs": [
    {
     "data": {
      "text/plain": [
       "0.09899494936611665"
      ]
     },
     "execution_count": 54,
     "metadata": {},
     "output_type": "execute_result"
    }
   ],
   "source": [
    "from math import sqrt\n",
    "s=0.7/sqrt(50)\n",
    "s"
   ]
  },
  {
   "cell_type": "code",
   "execution_count": 58,
   "metadata": {},
   "outputs": [
    {
     "data": {
      "text/plain": [
       "nan"
      ]
     },
     "execution_count": 58,
     "metadata": {},
     "output_type": "execute_result"
    }
   ],
   "source": [
    "st.norm.ppf(2.2,loc=2,scale=0.09899494936611665)"
   ]
  },
  {
   "cell_type": "code",
   "execution_count": 213,
   "metadata": {},
   "outputs": [
    {
     "data": {
      "text/plain": [
       "0.021675875630431274"
      ]
     },
     "execution_count": 213,
     "metadata": {},
     "output_type": "execute_result"
    }
   ],
   "source": [
    "play=st.norm.cdf(2.2,2,s)\n",
    "1-play"
   ]
  },
  {
   "cell_type": "code",
   "execution_count": 153,
   "metadata": {},
   "outputs": [
    {
     "data": {
      "text/plain": [
       "0.09899494936611665"
      ]
     },
     "execution_count": 153,
     "metadata": {},
     "output_type": "execute_result"
    }
   ],
   "source": [
    "from math import sqrt\n",
    "s1=0.7/sqrt(50)\n",
    "s1"
   ]
  },
  {
   "cell_type": "code",
   "execution_count": 128,
   "metadata": {},
   "outputs": [
    {
     "data": {
      "text/plain": [
       "0.021675875630431274"
      ]
     },
     "execution_count": 128,
     "metadata": {},
     "output_type": "execute_result"
    }
   ],
   "source": [
    "1-play"
   ]
  },
  {
   "cell_type": "code",
   "execution_count": 130,
   "metadata": {},
   "outputs": [
    {
     "data": {
      "text/plain": [
       "0.022750131948179195"
      ]
     },
     "execution_count": 130,
     "metadata": {},
     "output_type": "execute_result"
    }
   ],
   "source": [
    "x=st.norm.cdf(217,loc=220,scale=1.5)\n",
    "x"
   ]
  },
  {
   "cell_type": "code",
   "execution_count": 154,
   "metadata": {},
   "outputs": [],
   "source": [
    "mu = 17.5\n",
    "sigma = 4\n",
    "n = 50\n",
    "x1 = mu +1\n",
    "x2 = mu -1\n",
    "std_of_sample = sigma/sqrt(n)"
   ]
  },
  {
   "cell_type": "code",
   "execution_count": 142,
   "metadata": {},
   "outputs": [
    {
     "data": {
      "text/plain": [
       "0.9614500641282292"
      ]
     },
     "execution_count": 142,
     "metadata": {},
     "output_type": "execute_result"
    }
   ],
   "source": [
    "# Area to the left\n",
    "st.norm.cdf(mu+1, loc = mu, scale = std_of_sample) "
   ]
  },
  {
   "cell_type": "code",
   "execution_count": 143,
   "metadata": {},
   "outputs": [
    {
     "data": {
      "text/plain": [
       "0.03854993587177085"
      ]
     },
     "execution_count": 143,
     "metadata": {},
     "output_type": "execute_result"
    }
   ],
   "source": [
    "# Area to the right\n",
    "st.norm.cdf(mu-1, loc = mu, scale = std_of_sample) "
   ]
  },
  {
   "cell_type": "code",
   "execution_count": 141,
   "metadata": {},
   "outputs": [
    {
     "data": {
      "text/plain": [
       "0.9229001282564584"
      ]
     },
     "execution_count": 141,
     "metadata": {},
     "output_type": "execute_result"
    }
   ],
   "source": [
    "# Area between"
   ]
  },
  {
   "cell_type": "code",
   "execution_count": 60,
   "metadata": {
    "scrolled": false
   },
   "outputs": [
    {
     "data": {
      "text/plain": [
       "-1.9599639845400545"
      ]
     },
     "execution_count": 60,
     "metadata": {},
     "output_type": "execute_result"
    }
   ],
   "source": [
    "z = st.norm.ppf(0.025)\n",
    "z"
   ]
  },
  {
   "cell_type": "code",
   "execution_count": 61,
   "metadata": {},
   "outputs": [
    {
     "data": {
      "text/plain": [
       "-1.6448536269514729"
      ]
     },
     "execution_count": 61,
     "metadata": {},
     "output_type": "execute_result"
    }
   ],
   "source": [
    "# for 10% confidence\n",
    "z = st.norm.ppf(0.05)\n",
    "z"
   ]
  },
  {
   "cell_type": "markdown",
   "metadata": {},
   "source": [
    "Netflix  is planning to invest heavily in online television services. \n",
    "As part of the decision, the company wants to estimate the average no of online shows a family of four would watch per day. \n",
    "A random sample of n=100 families is obtained, and in this sample the average no of shows viewed per day is 6.5 and the population standard deviation is known to be 3.2.\n",
    "Construct a 95% confidence interval for the average no of online television shows watched by the entire population of families of four. \n"
   ]
  },
  {
   "cell_type": "code",
   "execution_count": 63,
   "metadata": {},
   "outputs": [],
   "source": [
    "xbar = 6.5\n",
    "sigma = 3.2\n",
    "n = 100"
   ]
  },
  {
   "cell_type": "code",
   "execution_count": 66,
   "metadata": {},
   "outputs": [
    {
     "data": {
      "text/plain": [
       "-1.6448536269514729"
      ]
     },
     "execution_count": 66,
     "metadata": {},
     "output_type": "execute_result"
    }
   ],
   "source": [
    "z = st.norm.ppf(0.05)\n",
    "z"
   ]
  },
  {
   "cell_type": "code",
   "execution_count": 65,
   "metadata": {},
   "outputs": [
    {
     "name": "stdout",
     "output_type": "stream",
     "text": [
      "5.87 7.13\n"
     ]
    }
   ],
   "source": [
    "\n",
    "mu1 = xbar - (z * sigma/sqrt(n))\n",
    "mu2 = xbar + (z * sigma/sqrt(n))\n",
    "\n",
    "print(round(mu2,2), round(mu1,2))"
   ]
  },
  {
   "cell_type": "markdown",
   "metadata": {},
   "source": [
    "# Hypothesis testing\n",
    "Hypothesis\n",
    "H0 : mu >= 2000\n",
    "Ha : mu  < 2000"
   ]
  },
  {
   "cell_type": "code",
   "execution_count": 67,
   "metadata": {},
   "outputs": [],
   "source": [
    "#sample_mean\n",
    "xbar = 1999.6\n",
    "\n",
    "#pop_std\n",
    "sigma  = 1.30 \n",
    "\n",
    "#sample_size\n",
    "n = 40 "
   ]
  },
  {
   "cell_type": "code",
   "execution_count": 68,
   "metadata": {},
   "outputs": [],
   "source": [
    "mu0 = 2000 "
   ]
  },
  {
   "cell_type": "code",
   "execution_count": 69,
   "metadata": {},
   "outputs": [
    {
     "data": {
      "text/plain": [
       "-1.9460170216425219"
      ]
     },
     "execution_count": 69,
     "metadata": {},
     "output_type": "execute_result"
    }
   ],
   "source": [
    "## Calculate z stats for mu = 2000\n",
    "from math import sqrt\n",
    "import scipy.stats as st\n",
    "z = (xbar - mu0)/(sigma/sqrt(n))\n",
    "z"
   ]
  },
  {
   "cell_type": "code",
   "execution_count": 71,
   "metadata": {},
   "outputs": [
    {
     "data": {
      "text/plain": [
       "0.025826347487875892"
      ]
     },
     "execution_count": 71,
     "metadata": {},
     "output_type": "execute_result"
    }
   ],
   "source": [
    "# Calculate p_value\n",
    "# import scipy.stats as st\n",
    "p_value = st.norm.cdf(z)\n",
    "p_value"
   ]
  },
  {
   "cell_type": "code",
   "execution_count": 72,
   "metadata": {
    "scrolled": true
   },
   "outputs": [
    {
     "data": {
      "text/plain": [
       "'C:\\\\Python\\\\Practice Exercises'"
      ]
     },
     "execution_count": 72,
     "metadata": {},
     "output_type": "execute_result"
    }
   ],
   "source": [
    "import os\n",
    "os.getcwd()\n"
   ]
  },
  {
   "cell_type": "code",
   "execution_count": 24,
   "metadata": {},
   "outputs": [],
   "source": [
    "os.chdir('C:\\Python\\Practice Exercises')"
   ]
  },
  {
   "cell_type": "code",
   "execution_count": 25,
   "metadata": {},
   "outputs": [
    {
     "data": {
      "text/plain": [
       "'C:\\\\Python\\\\Practice Exercises'"
      ]
     },
     "execution_count": 25,
     "metadata": {},
     "output_type": "execute_result"
    }
   ],
   "source": [
    "os.getcwd()"
   ]
  },
  {
   "cell_type": "code",
   "execution_count": 73,
   "metadata": {},
   "outputs": [],
   "source": [
    "score=pd.read_csv('scores_class.csv')"
   ]
  },
  {
   "cell_type": "code",
   "execution_count": 74,
   "metadata": {},
   "outputs": [
    {
     "data": {
      "text/html": [
       "<div>\n",
       "<style scoped>\n",
       "    .dataframe tbody tr th:only-of-type {\n",
       "        vertical-align: middle;\n",
       "    }\n",
       "\n",
       "    .dataframe tbody tr th {\n",
       "        vertical-align: top;\n",
       "    }\n",
       "\n",
       "    .dataframe thead th {\n",
       "        text-align: right;\n",
       "    }\n",
       "</style>\n",
       "<table border=\"1\" class=\"dataframe\">\n",
       "  <thead>\n",
       "    <tr style=\"text-align: right;\">\n",
       "      <th></th>\n",
       "      <th>Class id</th>\n",
       "      <th>female</th>\n",
       "      <th>race</th>\n",
       "      <th>ses</th>\n",
       "      <th>schtyp</th>\n",
       "      <th>prog</th>\n",
       "      <th>read</th>\n",
       "      <th>write</th>\n",
       "      <th>math</th>\n",
       "      <th>science</th>\n",
       "      <th>socst</th>\n",
       "    </tr>\n",
       "  </thead>\n",
       "  <tbody>\n",
       "    <tr>\n",
       "      <th>0</th>\n",
       "      <td>3</td>\n",
       "      <td>0</td>\n",
       "      <td>1</td>\n",
       "      <td>1</td>\n",
       "      <td>1</td>\n",
       "      <td>2</td>\n",
       "      <td>63</td>\n",
       "      <td>65</td>\n",
       "      <td>48</td>\n",
       "      <td>63</td>\n",
       "      <td>56</td>\n",
       "    </tr>\n",
       "    <tr>\n",
       "      <th>1</th>\n",
       "      <td>5</td>\n",
       "      <td>0</td>\n",
       "      <td>1</td>\n",
       "      <td>1</td>\n",
       "      <td>1</td>\n",
       "      <td>2</td>\n",
       "      <td>47</td>\n",
       "      <td>40</td>\n",
       "      <td>43</td>\n",
       "      <td>45</td>\n",
       "      <td>31</td>\n",
       "    </tr>\n",
       "    <tr>\n",
       "      <th>2</th>\n",
       "      <td>16</td>\n",
       "      <td>0</td>\n",
       "      <td>1</td>\n",
       "      <td>1</td>\n",
       "      <td>1</td>\n",
       "      <td>3</td>\n",
       "      <td>47</td>\n",
       "      <td>31</td>\n",
       "      <td>44</td>\n",
       "      <td>36</td>\n",
       "      <td>36</td>\n",
       "    </tr>\n",
       "    <tr>\n",
       "      <th>3</th>\n",
       "      <td>35</td>\n",
       "      <td>1</td>\n",
       "      <td>1</td>\n",
       "      <td>1</td>\n",
       "      <td>2</td>\n",
       "      <td>1</td>\n",
       "      <td>60</td>\n",
       "      <td>54</td>\n",
       "      <td>50</td>\n",
       "      <td>50</td>\n",
       "      <td>51</td>\n",
       "    </tr>\n",
       "    <tr>\n",
       "      <th>4</th>\n",
       "      <td>8</td>\n",
       "      <td>1</td>\n",
       "      <td>1</td>\n",
       "      <td>1</td>\n",
       "      <td>1</td>\n",
       "      <td>2</td>\n",
       "      <td>39</td>\n",
       "      <td>44</td>\n",
       "      <td>52</td>\n",
       "      <td>44</td>\n",
       "      <td>48</td>\n",
       "    </tr>\n",
       "  </tbody>\n",
       "</table>\n",
       "</div>"
      ],
      "text/plain": [
       "   Class id  female  race  ses  schtyp  prog  read  write  math  science  \\\n",
       "0         3       0     1    1       1     2    63     65    48       63   \n",
       "1         5       0     1    1       1     2    47     40    43       45   \n",
       "2        16       0     1    1       1     3    47     31    44       36   \n",
       "3        35       1     1    1       2     1    60     54    50       50   \n",
       "4         8       1     1    1       1     2    39     44    52       44   \n",
       "\n",
       "   socst  \n",
       "0     56  \n",
       "1     31  \n",
       "2     36  \n",
       "3     51  \n",
       "4     48  "
      ]
     },
     "execution_count": 74,
     "metadata": {},
     "output_type": "execute_result"
    }
   ],
   "source": [
    "score.head()"
   ]
  },
  {
   "cell_type": "code",
   "execution_count": 75,
   "metadata": {
    "scrolled": true
   },
   "outputs": [
    {
     "name": "stdout",
     "output_type": "stream",
     "text": [
      "<class 'pandas.core.frame.DataFrame'>\n",
      "RangeIndex: 200 entries, 0 to 199\n",
      "Data columns (total 11 columns):\n",
      "Class id    200 non-null int64\n",
      "female      200 non-null int64\n",
      "race        200 non-null int64\n",
      "ses         200 non-null int64\n",
      "schtyp      200 non-null int64\n",
      "prog        200 non-null int64\n",
      "read        200 non-null int64\n",
      "write       200 non-null int64\n",
      "math        200 non-null int64\n",
      "science     200 non-null int64\n",
      "socst       200 non-null int64\n",
      "dtypes: int64(11)\n",
      "memory usage: 17.3 KB\n"
     ]
    }
   ],
   "source": [
    "score.info()"
   ]
  },
  {
   "cell_type": "code",
   "execution_count": 76,
   "metadata": {
    "collapsed": true
   },
   "outputs": [
    {
     "data": {
      "text/plain": [
       "0      48\n",
       "1      43\n",
       "2      44\n",
       "3      50\n",
       "4      52\n",
       "5      43\n",
       "6      46\n",
       "7      40\n",
       "8      41\n",
       "9      39\n",
       "10     61\n",
       "11     59\n",
       "12     52\n",
       "13     49\n",
       "14     45\n",
       "15     45\n",
       "16     49\n",
       "17     39\n",
       "18     48\n",
       "19     33\n",
       "20     57\n",
       "21     54\n",
       "22     44\n",
       "23     57\n",
       "24     49\n",
       "25     64\n",
       "26     72\n",
       "27     61\n",
       "28     66\n",
       "29     54\n",
       "       ..\n",
       "170    47\n",
       "171    51\n",
       "172    54\n",
       "173    38\n",
       "174    39\n",
       "175    49\n",
       "176    50\n",
       "177    65\n",
       "178    64\n",
       "179    71\n",
       "180    60\n",
       "181    56\n",
       "182    57\n",
       "183    51\n",
       "184    69\n",
       "185    45\n",
       "186    62\n",
       "187    61\n",
       "188    56\n",
       "189    69\n",
       "190    55\n",
       "191    56\n",
       "192    65\n",
       "193    50\n",
       "194    67\n",
       "195    54\n",
       "196    42\n",
       "197    43\n",
       "198    56\n",
       "199    57\n",
       "Name: math, Length: 200, dtype: int64"
      ]
     },
     "execution_count": 76,
     "metadata": {},
     "output_type": "execute_result"
    }
   ],
   "source": [
    "score['math']"
   ]
  },
  {
   "cell_type": "markdown",
   "metadata": {},
   "source": [
    "1 sample T test\n",
    "Syntax:\n",
    "\n",
    "ttest_1samp( data_column, mu0)\n",
    "   "
   ]
  },
  {
   "cell_type": "code",
   "execution_count": 77,
   "metadata": {},
   "outputs": [
    {
     "data": {
      "text/plain": [
       "Ttest_1sampResult(statistic=3.992758410674641, pvalue=9.183839432518618e-05)"
      ]
     },
     "execution_count": 77,
     "metadata": {},
     "output_type": "execute_result"
    }
   ],
   "source": [
    "# 1 sample t test\n",
    "st.ttest_1samp(score['math'],50)"
   ]
  },
  {
   "cell_type": "code",
   "execution_count": 78,
   "metadata": {},
   "outputs": [
    {
     "data": {
      "text/plain": [
       "Ttest_relResult(statistic=-0.8673065458794775, pvalue=0.3868186820914985)"
      ]
     },
     "execution_count": 78,
     "metadata": {},
     "output_type": "execute_result"
    }
   ],
   "source": [
    "# Paired sample t tests\n",
    "\n",
    "st.ttest_rel(score['read'],score['write'])"
   ]
  },
  {
   "cell_type": "code",
   "execution_count": 82,
   "metadata": {},
   "outputs": [],
   "source": [
    "math_male=score[score['female']==0].math"
   ]
  },
  {
   "cell_type": "code",
   "execution_count": 83,
   "metadata": {},
   "outputs": [],
   "source": [
    "math_female=score[score['female']==1].math"
   ]
  },
  {
   "cell_type": "code",
   "execution_count": 51,
   "metadata": {},
   "outputs": [
    {
     "data": {
      "text/plain": [
       "4818"
      ]
     },
     "execution_count": 51,
     "metadata": {},
     "output_type": "execute_result"
    }
   ],
   "source": [
    "# Ind. group t test\n",
    "\n",
    "# get the math scores for males\n",
    "math_male=score[score['female']==0].math\n",
    "math_male"
   ]
  },
  {
   "cell_type": "code",
   "execution_count": 52,
   "metadata": {
    "collapsed": true
   },
   "outputs": [
    {
     "data": {
      "text/plain": [
       "3      50\n",
       "4      52\n",
       "5      43\n",
       "6      46\n",
       "7      40\n",
       "8      41\n",
       "16     49\n",
       "17     39\n",
       "18     48\n",
       "19     33\n",
       "23     57\n",
       "25     64\n",
       "26     72\n",
       "29     54\n",
       "30     42\n",
       "31     52\n",
       "32     66\n",
       "33     62\n",
       "34     42\n",
       "37     53\n",
       "38     46\n",
       "39     43\n",
       "40     40\n",
       "41     44\n",
       "42     45\n",
       "43     44\n",
       "44     49\n",
       "45     41\n",
       "50     55\n",
       "51     49\n",
       "       ..\n",
       "145    66\n",
       "146    37\n",
       "147    42\n",
       "148    53\n",
       "149    52\n",
       "150    48\n",
       "151    38\n",
       "177    65\n",
       "178    64\n",
       "179    71\n",
       "180    60\n",
       "181    56\n",
       "182    57\n",
       "183    51\n",
       "184    69\n",
       "185    45\n",
       "186    62\n",
       "187    61\n",
       "188    56\n",
       "189    69\n",
       "190    55\n",
       "191    56\n",
       "192    65\n",
       "193    50\n",
       "194    67\n",
       "195    54\n",
       "196    42\n",
       "197    43\n",
       "198    56\n",
       "199    57\n",
       "Name: math, Length: 109, dtype: int64"
      ]
     },
     "execution_count": 52,
     "metadata": {},
     "output_type": "execute_result"
    }
   ],
   "source": [
    "# get the math scores for females\n",
    "math_female=score[score['female']==1].math\n",
    "math_female"
   ]
  },
  {
   "cell_type": "code",
   "execution_count": 84,
   "metadata": {},
   "outputs": [
    {
     "data": {
      "text/plain": [
       "Ttest_indResult(statistic=0.412998649296885, pvalue=0.6800544974232143)"
      ]
     },
     "execution_count": 84,
     "metadata": {},
     "output_type": "execute_result"
    }
   ],
   "source": [
    "# To get the  t test for independent samples\n",
    "st.ttest_ind(math_male,math_female)"
   ]
  },
  {
   "cell_type": "code",
   "execution_count": null,
   "metadata": {},
   "outputs": [],
   "source": [
    "# ANOVA\n",
    "\n",
    "stats.f_oneway(ctrl, trt1, trt2)"
   ]
  }
 ],
 "metadata": {
  "kernelspec": {
   "display_name": "Python 3",
   "language": "python",
   "name": "python3"
  },
  "language_info": {
   "codemirror_mode": {
    "name": "ipython",
    "version": 3
   },
   "file_extension": ".py",
   "mimetype": "text/x-python",
   "name": "python",
   "nbconvert_exporter": "python",
   "pygments_lexer": "ipython3",
   "version": "3.6.5"
  }
 },
 "nbformat": 4,
 "nbformat_minor": 2
}
