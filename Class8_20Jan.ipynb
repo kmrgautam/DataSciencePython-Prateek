{
 "cells": [
  {
   "cell_type": "markdown",
   "metadata": {},
   "source": [
    "CHI SQUARE TESTS\n",
    "To compare the actual vs expected results\n",
    "The observed and expected frequencies should be >5\n",
    "we use the chisquare function:"
   ]
  },
  {
   "cell_type": "code",
   "execution_count": 118,
   "metadata": {},
   "outputs": [],
   "source": [
    "die_expected = [100,100,100,100,100,100]\n",
    "die_actual =  [106,150,119,87,101,37]"
   ]
  },
  {
   "cell_type": "markdown",
   "metadata": {},
   "source": [
    "The chisquare method gives two values:\n",
    "    \n",
    "    1. Chi square statistic\n",
    "    2. p value\n",
    "    "
   ]
  },
  {
   "cell_type": "code",
   "execution_count": 120,
   "metadata": {},
   "outputs": [
    {
     "data": {
      "text/plain": [
       "Power_divergenceResult(statistic=70.36, pvalue=8.624026328466518e-14)"
      ]
     },
     "execution_count": 120,
     "metadata": {},
     "output_type": "execute_result"
    }
   ],
   "source": [
    "\n",
    "\n",
    "stats.chisquare(die_actual, die_expected)"
   ]
  },
  {
   "cell_type": "markdown",
   "metadata": {},
   "source": [
    "Let us see if ethnicity determines voting patterns"
   ]
  },
  {
   "cell_type": "code",
   "execution_count": 123,
   "metadata": {},
   "outputs": [],
   "source": [
    "voters=pd.read_csv('C:\\Python\\Practice Exercises\\dataset\\Voting_pattern.csv')"
   ]
  },
  {
   "cell_type": "code",
   "execution_count": 124,
   "metadata": {},
   "outputs": [
    {
     "data": {
      "text/html": [
       "<div>\n",
       "<style scoped>\n",
       "    .dataframe tbody tr th:only-of-type {\n",
       "        vertical-align: middle;\n",
       "    }\n",
       "\n",
       "    .dataframe tbody tr th {\n",
       "        vertical-align: top;\n",
       "    }\n",
       "\n",
       "    .dataframe thead th {\n",
       "        text-align: right;\n",
       "    }\n",
       "</style>\n",
       "<table border=\"1\" class=\"dataframe\">\n",
       "  <thead>\n",
       "    <tr style=\"text-align: right;\">\n",
       "      <th></th>\n",
       "      <th>RACE</th>\n",
       "      <th>PARTY</th>\n",
       "    </tr>\n",
       "  </thead>\n",
       "  <tbody>\n",
       "    <tr>\n",
       "      <th>0</th>\n",
       "      <td>WHITE</td>\n",
       "      <td>REPUBLICAN</td>\n",
       "    </tr>\n",
       "    <tr>\n",
       "      <th>1</th>\n",
       "      <td>WHITE</td>\n",
       "      <td>REPUBLICAN</td>\n",
       "    </tr>\n",
       "    <tr>\n",
       "      <th>2</th>\n",
       "      <td>WHITE</td>\n",
       "      <td>DEMOCRAT</td>\n",
       "    </tr>\n",
       "    <tr>\n",
       "      <th>3</th>\n",
       "      <td>HISPANIC</td>\n",
       "      <td>DEMOCRAT</td>\n",
       "    </tr>\n",
       "    <tr>\n",
       "      <th>4</th>\n",
       "      <td>ASIAN</td>\n",
       "      <td>DEMOCRAT</td>\n",
       "    </tr>\n",
       "  </tbody>\n",
       "</table>\n",
       "</div>"
      ],
      "text/plain": [
       "       RACE       PARTY\n",
       "0     WHITE  REPUBLICAN\n",
       "1     WHITE  REPUBLICAN\n",
       "2     WHITE    DEMOCRAT\n",
       "3  HISPANIC    DEMOCRAT\n",
       "4     ASIAN    DEMOCRAT"
      ]
     },
     "execution_count": 124,
     "metadata": {},
     "output_type": "execute_result"
    }
   ],
   "source": [
    "voters.head()"
   ]
  },
  {
   "cell_type": "code",
   "execution_count": 125,
   "metadata": {},
   "outputs": [
    {
     "data": {
      "text/html": [
       "<div>\n",
       "<style scoped>\n",
       "    .dataframe tbody tr th:only-of-type {\n",
       "        vertical-align: middle;\n",
       "    }\n",
       "\n",
       "    .dataframe tbody tr th {\n",
       "        vertical-align: top;\n",
       "    }\n",
       "\n",
       "    .dataframe thead th {\n",
       "        text-align: right;\n",
       "    }\n",
       "</style>\n",
       "<table border=\"1\" class=\"dataframe\">\n",
       "  <thead>\n",
       "    <tr style=\"text-align: right;\">\n",
       "      <th>PARTY</th>\n",
       "      <th>DEMOCRAT</th>\n",
       "      <th>INDEPENDENT</th>\n",
       "      <th>REPUBLICAN</th>\n",
       "    </tr>\n",
       "    <tr>\n",
       "      <th>RACE</th>\n",
       "      <th></th>\n",
       "      <th></th>\n",
       "      <th></th>\n",
       "    </tr>\n",
       "  </thead>\n",
       "  <tbody>\n",
       "    <tr>\n",
       "      <th>ASIAN</th>\n",
       "      <td>19</td>\n",
       "      <td>8</td>\n",
       "      <td>15</td>\n",
       "    </tr>\n",
       "    <tr>\n",
       "      <th>BLACK</th>\n",
       "      <td>60</td>\n",
       "      <td>32</td>\n",
       "      <td>59</td>\n",
       "    </tr>\n",
       "    <tr>\n",
       "      <th>HISPANIC</th>\n",
       "      <td>105</td>\n",
       "      <td>45</td>\n",
       "      <td>86</td>\n",
       "    </tr>\n",
       "    <tr>\n",
       "      <th>OTHER</th>\n",
       "      <td>12</td>\n",
       "      <td>8</td>\n",
       "      <td>17</td>\n",
       "    </tr>\n",
       "    <tr>\n",
       "      <th>WHITE</th>\n",
       "      <td>207</td>\n",
       "      <td>100</td>\n",
       "      <td>227</td>\n",
       "    </tr>\n",
       "  </tbody>\n",
       "</table>\n",
       "</div>"
      ],
      "text/plain": [
       "PARTY     DEMOCRAT  INDEPENDENT  REPUBLICAN\n",
       "RACE                                       \n",
       "ASIAN           19            8          15\n",
       "BLACK           60           32          59\n",
       "HISPANIC       105           45          86\n",
       "OTHER           12            8          17\n",
       "WHITE          207          100         227"
      ]
     },
     "execution_count": 125,
     "metadata": {},
     "output_type": "execute_result"
    }
   ],
   "source": [
    "voter_tab = pd.crosstab(voters.RACE, voters.PARTY)\n",
    "voter_tab"
   ]
  },
  {
   "cell_type": "code",
   "execution_count": 126,
   "metadata": {},
   "outputs": [
    {
     "data": {
      "text/plain": [
       "(4.73783947307747, 0.7851934085104636, 8, array([[ 16.926,   8.106,  16.968],\n",
       "        [ 60.853,  29.143,  61.004],\n",
       "        [ 95.108,  45.548,  95.344],\n",
       "        [ 14.911,   7.141,  14.948],\n",
       "        [215.202, 103.062, 215.736]]))"
      ]
     },
     "execution_count": 126,
     "metadata": {},
     "output_type": "execute_result"
    }
   ],
   "source": [
    "stats.chi2_contingency(voter_tab)"
   ]
  },
  {
   "cell_type": "code",
   "execution_count": 127,
   "metadata": {},
   "outputs": [],
   "source": [
    "chi_square , p_value,degrees_of_freedom,expected_frequencies = stats.chi2_contingency(voter_tab)"
   ]
  },
  {
   "cell_type": "code",
   "execution_count": 128,
   "metadata": {},
   "outputs": [
    {
     "data": {
      "text/plain": [
       "4.73783947307747"
      ]
     },
     "execution_count": 128,
     "metadata": {},
     "output_type": "execute_result"
    }
   ],
   "source": [
    "chi_square"
   ]
  },
  {
   "cell_type": "code",
   "execution_count": 129,
   "metadata": {},
   "outputs": [
    {
     "data": {
      "text/plain": [
       "0.7851934085104636"
      ]
     },
     "execution_count": 129,
     "metadata": {},
     "output_type": "execute_result"
    }
   ],
   "source": [
    "p_value"
   ]
  },
  {
   "cell_type": "code",
   "execution_count": 130,
   "metadata": {},
   "outputs": [
    {
     "data": {
      "text/plain": [
       "8"
      ]
     },
     "execution_count": 130,
     "metadata": {},
     "output_type": "execute_result"
    }
   ],
   "source": [
    "degrees_of_freedom"
   ]
  },
  {
   "cell_type": "code",
   "execution_count": 131,
   "metadata": {},
   "outputs": [
    {
     "data": {
      "text/plain": [
       "array([[ 16.926,   8.106,  16.968],\n",
       "       [ 60.853,  29.143,  61.004],\n",
       "       [ 95.108,  45.548,  95.344],\n",
       "       [ 14.911,   7.141,  14.948],\n",
       "       [215.202, 103.062, 215.736]])"
      ]
     },
     "execution_count": 131,
     "metadata": {},
     "output_type": "execute_result"
    }
   ],
   "source": [
    "expected_frequencies"
   ]
  },
  {
   "cell_type": "markdown",
   "metadata": {},
   "source": [
    "Linear regression\n",
    "\n",
    "Assumptions:\n",
    "1. linearity and additivity of the relationship between dependent and independent variables:\n",
    "2. statistical independence of the errors\n",
    "3. constant variance of the errors\n",
    "4. normality of the error distribution."
   ]
  },
  {
   "cell_type": "code",
   "execution_count": 122,
   "metadata": {},
   "outputs": [],
   "source": [
    "%matplotlib inline\n",
    "import numpy as np\n",
    "import pandas as pd\n",
    "import matplotlib.pyplot as plt"
   ]
  },
  {
   "cell_type": "code",
   "execution_count": 3,
   "metadata": {},
   "outputs": [],
   "source": [
    "# Import the housing dataset\n",
    "\n",
    "hsg=pd.read_csv('C:\\Python\\Practice Exercises\\dataset\\Housing_data.csv')"
   ]
  },
  {
   "cell_type": "code",
   "execution_count": 4,
   "metadata": {},
   "outputs": [
    {
     "data": {
      "text/html": [
       "<div>\n",
       "<style scoped>\n",
       "    .dataframe tbody tr th:only-of-type {\n",
       "        vertical-align: middle;\n",
       "    }\n",
       "\n",
       "    .dataframe tbody tr th {\n",
       "        vertical-align: top;\n",
       "    }\n",
       "\n",
       "    .dataframe thead th {\n",
       "        text-align: right;\n",
       "    }\n",
       "</style>\n",
       "<table border=\"1\" class=\"dataframe\">\n",
       "  <thead>\n",
       "    <tr style=\"text-align: right;\">\n",
       "      <th></th>\n",
       "      <th>Price</th>\n",
       "      <th>LivingArea</th>\n",
       "      <th>Bathrooms</th>\n",
       "      <th>Bedrooms</th>\n",
       "      <th>LotSize</th>\n",
       "      <th>Age</th>\n",
       "      <th>Fireplace</th>\n",
       "    </tr>\n",
       "  </thead>\n",
       "  <tbody>\n",
       "    <tr>\n",
       "      <th>0</th>\n",
       "      <td>16858</td>\n",
       "      <td>1629</td>\n",
       "      <td>1.0</td>\n",
       "      <td>3</td>\n",
       "      <td>0.76</td>\n",
       "      <td>180</td>\n",
       "      <td>0</td>\n",
       "    </tr>\n",
       "    <tr>\n",
       "      <th>1</th>\n",
       "      <td>26049</td>\n",
       "      <td>1344</td>\n",
       "      <td>2.0</td>\n",
       "      <td>3</td>\n",
       "      <td>0.92</td>\n",
       "      <td>13</td>\n",
       "      <td>0</td>\n",
       "    </tr>\n",
       "    <tr>\n",
       "      <th>2</th>\n",
       "      <td>26130</td>\n",
       "      <td>822</td>\n",
       "      <td>1.0</td>\n",
       "      <td>2</td>\n",
       "      <td>0.56</td>\n",
       "      <td>173</td>\n",
       "      <td>0</td>\n",
       "    </tr>\n",
       "    <tr>\n",
       "      <th>3</th>\n",
       "      <td>31113</td>\n",
       "      <td>1540</td>\n",
       "      <td>1.0</td>\n",
       "      <td>2</td>\n",
       "      <td>0.04</td>\n",
       "      <td>115</td>\n",
       "      <td>0</td>\n",
       "    </tr>\n",
       "    <tr>\n",
       "      <th>4</th>\n",
       "      <td>40932</td>\n",
       "      <td>1320</td>\n",
       "      <td>1.0</td>\n",
       "      <td>3</td>\n",
       "      <td>0.17</td>\n",
       "      <td>90</td>\n",
       "      <td>0</td>\n",
       "    </tr>\n",
       "  </tbody>\n",
       "</table>\n",
       "</div>"
      ],
      "text/plain": [
       "   Price  LivingArea  Bathrooms  Bedrooms  LotSize  Age  Fireplace\n",
       "0  16858        1629        1.0         3     0.76  180          0\n",
       "1  26049        1344        2.0         3     0.92   13          0\n",
       "2  26130         822        1.0         2     0.56  173          0\n",
       "3  31113        1540        1.0         2     0.04  115          0\n",
       "4  40932        1320        1.0         3     0.17   90          0"
      ]
     },
     "execution_count": 4,
     "metadata": {},
     "output_type": "execute_result"
    }
   ],
   "source": [
    "hsg.head()"
   ]
  },
  {
   "cell_type": "code",
   "execution_count": 6,
   "metadata": {},
   "outputs": [
    {
     "name": "stdout",
     "output_type": "stream",
     "text": [
      "<class 'pandas.core.frame.DataFrame'>\n",
      "RangeIndex: 1047 entries, 0 to 1046\n",
      "Data columns (total 7 columns):\n",
      "Price         1047 non-null int64\n",
      "LivingArea    1047 non-null int64\n",
      "Bathrooms     1047 non-null float64\n",
      "Bedrooms      1047 non-null int64\n",
      "LotSize       1047 non-null float64\n",
      "Age           1047 non-null int64\n",
      "Fireplace     1047 non-null int64\n",
      "dtypes: float64(2), int64(5)\n",
      "memory usage: 57.3 KB\n"
     ]
    }
   ],
   "source": [
    "hsg.info()"
   ]
  },
  {
   "cell_type": "code",
   "execution_count": 61,
   "metadata": {},
   "outputs": [],
   "source": [
    "lv= hsg['LivingArea']"
   ]
  },
  {
   "cell_type": "code",
   "execution_count": 36,
   "metadata": {},
   "outputs": [],
   "source": [
    "price=hsg['Price']"
   ]
  },
  {
   "cell_type": "code",
   "execution_count": 52,
   "metadata": {},
   "outputs": [
    {
     "data": {
      "text/plain": [
       "Text(0,0.5,'Price')"
      ]
     },
     "execution_count": 52,
     "metadata": {},
     "output_type": "execute_result"
    },
    {
     "data": {
      "image/png": "[encoded data removed]",
      "text/plain": [
       "<Figure size 432x288 with 1 Axes>"
      ]
     },
     "metadata": {},
     "output_type": "display_data"
    }
   ],
   "source": [
    "plt.scatter(lv,price,color='Blue')\n",
    "plt.xlabel('Living Area')\n",
    "plt.ylabel('Price')"
   ]
  },
  {
   "cell_type": "code",
   "execution_count": 116,
   "metadata": {
    "scrolled": true
   },
   "outputs": [
    {
     "data": {
      "text/html": [
       "<div>\n",
       "<style scoped>\n",
       "    .dataframe tbody tr th:only-of-type {\n",
       "        vertical-align: middle;\n",
       "    }\n",
       "\n",
       "    .dataframe tbody tr th {\n",
       "        vertical-align: top;\n",
       "    }\n",
       "\n",
       "    .dataframe thead th {\n",
       "        text-align: right;\n",
       "    }\n",
       "</style>\n",
       "<table border=\"1\" class=\"dataframe\">\n",
       "  <thead>\n",
       "    <tr style=\"text-align: right;\">\n",
       "      <th></th>\n",
       "      <th>Price</th>\n",
       "      <th>LivingArea</th>\n",
       "      <th>Bathrooms</th>\n",
       "      <th>Bedrooms</th>\n",
       "      <th>LotSize</th>\n",
       "      <th>Age</th>\n",
       "      <th>Fireplace</th>\n",
       "    </tr>\n",
       "  </thead>\n",
       "  <tbody>\n",
       "    <tr>\n",
       "      <th>Price</th>\n",
       "      <td>1.000000</td>\n",
       "      <td>0.776396</td>\n",
       "      <td>0.670189</td>\n",
       "      <td>0.471074</td>\n",
       "      <td>0.155284</td>\n",
       "      <td>-0.363354</td>\n",
       "      <td>0.460237</td>\n",
       "    </tr>\n",
       "    <tr>\n",
       "      <th>LivingArea</th>\n",
       "      <td>0.776396</td>\n",
       "      <td>1.000000</td>\n",
       "      <td>0.722649</td>\n",
       "      <td>0.664347</td>\n",
       "      <td>0.200180</td>\n",
       "      <td>-0.263168</td>\n",
       "      <td>0.481436</td>\n",
       "    </tr>\n",
       "    <tr>\n",
       "      <th>Bathrooms</th>\n",
       "      <td>0.670189</td>\n",
       "      <td>0.722649</td>\n",
       "      <td>1.000000</td>\n",
       "      <td>0.491798</td>\n",
       "      <td>0.100993</td>\n",
       "      <td>-0.443830</td>\n",
       "      <td>0.444700</td>\n",
       "    </tr>\n",
       "    <tr>\n",
       "      <th>Bedrooms</th>\n",
       "      <td>0.471074</td>\n",
       "      <td>0.664347</td>\n",
       "      <td>0.491798</td>\n",
       "      <td>1.000000</td>\n",
       "      <td>0.140682</td>\n",
       "      <td>-0.060598</td>\n",
       "      <td>0.295873</td>\n",
       "    </tr>\n",
       "    <tr>\n",
       "      <th>LotSize</th>\n",
       "      <td>0.155284</td>\n",
       "      <td>0.200180</td>\n",
       "      <td>0.100993</td>\n",
       "      <td>0.140682</td>\n",
       "      <td>1.000000</td>\n",
       "      <td>0.015135</td>\n",
       "      <td>0.052765</td>\n",
       "    </tr>\n",
       "    <tr>\n",
       "      <th>Age</th>\n",
       "      <td>-0.363354</td>\n",
       "      <td>-0.263168</td>\n",
       "      <td>-0.443830</td>\n",
       "      <td>-0.060598</td>\n",
       "      <td>0.015135</td>\n",
       "      <td>1.000000</td>\n",
       "      <td>-0.248794</td>\n",
       "    </tr>\n",
       "    <tr>\n",
       "      <th>Fireplace</th>\n",
       "      <td>0.460237</td>\n",
       "      <td>0.481436</td>\n",
       "      <td>0.444700</td>\n",
       "      <td>0.295873</td>\n",
       "      <td>0.052765</td>\n",
       "      <td>-0.248794</td>\n",
       "      <td>1.000000</td>\n",
       "    </tr>\n",
       "  </tbody>\n",
       "</table>\n",
       "</div>"
      ],
      "text/plain": [
       "               Price  LivingArea  Bathrooms  Bedrooms   LotSize       Age  \\\n",
       "Price       1.000000    0.776396   0.670189  0.471074  0.155284 -0.363354   \n",
       "LivingArea  0.776396    1.000000   0.722649  0.664347  0.200180 -0.263168   \n",
       "Bathrooms   0.670189    0.722649   1.000000  0.491798  0.100993 -0.443830   \n",
       "Bedrooms    0.471074    0.664347   0.491798  1.000000  0.140682 -0.060598   \n",
       "LotSize     0.155284    0.200180   0.100993  0.140682  1.000000  0.015135   \n",
       "Age        -0.363354   -0.263168  -0.443830 -0.060598  0.015135  1.000000   \n",
       "Fireplace   0.460237    0.481436   0.444700  0.295873  0.052765 -0.248794   \n",
       "\n",
       "            Fireplace  \n",
       "Price        0.460237  \n",
       "LivingArea   0.481436  \n",
       "Bathrooms    0.444700  \n",
       "Bedrooms     0.295873  \n",
       "LotSize      0.052765  \n",
       "Age         -0.248794  \n",
       "Fireplace    1.000000  "
      ]
     },
     "execution_count": 116,
     "metadata": {},
     "output_type": "execute_result"
    }
   ],
   "source": [
    "# Getting the correlation matrix between the variables\n",
    "\n",
    "corr_coef = hsg.corr()\n",
    "corr_coef ## corelation Matrix"
   ]
  },
  {
   "cell_type": "code",
   "execution_count": 55,
   "metadata": {},
   "outputs": [
    {
     "data": {
      "text/plain": [
       "0.7763964501037222"
      ]
     },
     "execution_count": 55,
     "metadata": {},
     "output_type": "execute_result"
    }
   ],
   "source": [
    "hsg.Price.corr(hsg.LivingArea)"
   ]
  },
  {
   "cell_type": "markdown",
   "metadata": {},
   "source": [
    "Creating a scatter plot using the seaborn package"
   ]
  },
  {
   "cell_type": "code",
   "execution_count": 57,
   "metadata": {},
   "outputs": [
    {
     "data": {
      "text/plain": [
       "<matplotlib.axes._subplots.AxesSubplot at 0x1bb2100eb00>"
      ]
     },
     "execution_count": 57,
     "metadata": {},
     "output_type": "execute_result"
    },
    {
     "data": {
      "image/png": "[encoded data removed]",
      "text/plain": [
       "<Figure size 432x288 with 1 Axes>"
      ]
     },
     "metadata": {},
     "output_type": "display_data"
    }
   ],
   "source": [
    "# import seaborn package as sns\n",
    "\n",
    "import seaborn as sns\n",
    "\n",
    "sns.regplot(x=\"LivingArea\", y=\"Price\", data=hsg)"
   ]
  },
  {
   "cell_type": "markdown",
   "metadata": {},
   "source": [
    "In order to make a linear regression model , import the module from Scikit learn package"
   ]
  },
  {
   "cell_type": "code",
   "execution_count": null,
   "metadata": {},
   "outputs": [],
   "source": [
    "from sklearn import linear_model"
   ]
  },
  {
   "cell_type": "code",
   "execution_count": 38,
   "metadata": {},
   "outputs": [],
   "source": [
    "# Initialize model\n",
    "regression_model = linear_model.LinearRegression()\n",
    "\n"
   ]
  },
  {
   "cell_type": "markdown",
   "metadata": {},
   "source": [
    "regression_model.fit() -> fits a linear model\n",
    "In other words, the first step is for the model to \"Learn \" the data and derive the coefficients.\n",
    "it is called as fitting the model"
   ]
  },
  {
   "cell_type": "code",
   "execution_count": 64,
   "metadata": {},
   "outputs": [
    {
     "data": {
      "text/plain": [
       "LinearRegression(copy_X=True, fit_intercept=True, n_jobs=1, normalize=False)"
      ]
     },
     "execution_count": 64,
     "metadata": {},
     "output_type": "execute_result"
    }
   ],
   "source": [
    "# Train the model using the housing data\n",
    "regression_model.fit(X = hsg[['LivingArea']],\n",
    "                     y = hsg[\"Price\"])\n",
    "\n"
   ]
  },
  {
   "cell_type": "code",
   "execution_count": 65,
   "metadata": {},
   "outputs": [
    {
     "name": "stdout",
     "output_type": "stream",
     "text": [
      "15875.636989985855\n"
     ]
    }
   ],
   "source": [
    "# Check trained model y-intercept\n",
    "print(regression_model.intercept_)\n",
    "\n"
   ]
  },
  {
   "cell_type": "code",
   "execution_count": 66,
   "metadata": {},
   "outputs": [
    {
     "name": "stdout",
     "output_type": "stream",
     "text": [
      "[81.88251056]\n"
     ]
    }
   ],
   "source": [
    "# Check trained model coefficients\n",
    "print(regression_model.coef_)"
   ]
  },
  {
   "cell_type": "markdown",
   "metadata": {},
   "source": [
    "# Prediction for a single Independent variable value using coefficients"
   ]
  },
  {
   "cell_type": "code",
   "execution_count": 111,
   "metadata": {},
   "outputs": [
    {
     "data": {
      "text/plain": [
       "149266.5925"
      ]
     },
     "execution_count": 111,
     "metadata": {},
     "output_type": "execute_result"
    }
   ],
   "source": [
    "# ypred = beta0 + beta1 x1\n",
    "#Price = b0 + b1*Living Area\n",
    "b0=15880\n",
    "b1 = 81.8825\n",
    "\n",
    "price_pred = b0 +(b1* 1629)\n",
    "price_pred"
   ]
  },
  {
   "cell_type": "markdown",
   "metadata": {},
   "source": [
    "## R square\n",
    "\n",
    "R square is a measure of how well your model fits the data\n",
    "\n",
    "Rsquare=1-(SSResiduals/SS Total)\n",
    "\n",
    "We can find the R square using the score method in regression model\n",
    "\n"
   ]
  },
  {
   "cell_type": "markdown",
   "metadata": {},
   "source": [
    "\n",
    "## Linear Regression.score()\n",
    "The output of the score function for linear regression is \"R-squared\".\n",
    "\n",
    "The value that ranges from 0 to 1 which describes the proportion of variance in the response variable that is explained by the model. \n",
    "\n",
    "In this case, Living Area explains roughly 60% of the variance in House prices"
   ]
  },
  {
   "cell_type": "code",
   "execution_count": 67,
   "metadata": {},
   "outputs": [
    {
     "data": {
      "text/plain": [
       "0.6027914477336614"
      ]
     },
     "execution_count": 67,
     "metadata": {},
     "output_type": "execute_result"
    }
   ],
   "source": [
    "regression_model.score(X = hsg[['LivingArea']],\n",
    "                     y = hsg[\"Price\"])"
   ]
  },
  {
   "cell_type": "markdown",
   "metadata": {},
   "source": [
    "## Prediction\n",
    "\n",
    "\n",
    "For Predicting the output, we use the predict method over the regression model\n",
    "\n",
    "regression_model.predict :-\n",
    "\n",
    "It predicts Y using the linear model with estimated coefficients"
   ]
  },
  {
   "cell_type": "code",
   "execution_count": 75,
   "metadata": {
    "scrolled": true
   },
   "outputs": [
    {
     "data": {
      "text/plain": [
       "array([149262.24668738, 125925.73117862,  83183.06066786, ...,\n",
       "       291082.75497214, 281993.79630031, 299762.30109119])"
      ]
     },
     "execution_count": 75,
     "metadata": {},
     "output_type": "execute_result"
    }
   ],
   "source": [
    "train_prediction = regression_model.predict(X = hsg[['LivingArea']])\n",
    "\n",
    "train_prediction"
   ]
  },
  {
   "cell_type": "markdown",
   "metadata": {},
   "source": [
    "Now that we have created the regression output, let us plot the best fit line"
   ]
  },
  {
   "cell_type": "code",
   "execution_count": 99,
   "metadata": {
    "scrolled": false
   },
   "outputs": [
    {
     "data": {
      "text/plain": [
       "[<matplotlib.lines.Line2D at 0x1bb2118f7f0>]"
      ]
     },
     "execution_count": 99,
     "metadata": {},
     "output_type": "execute_result"
    },
    {
     "data": {
      "image/png": "[encoded data removed]",
      "text/plain": [
       "<Figure size 648x648 with 1 Axes>"
      ]
     },
     "metadata": {},
     "output_type": "display_data"
    }
   ],
   "source": [
    "# Having a scatter plot of Living area vs Price\n",
    "\n",
    "hsg.plot(kind=\"scatter\",\n",
    "           x=\"LivingArea\",\n",
    "           y=\"Price\",\n",
    "           figsize=(9,9),\n",
    "           color=\"black\")\n",
    "\n",
    "# Plot regression line\n",
    "plt.plot(hsg[\"LivingArea\"],      # Explanitory variable\n",
    "         train_prediction,  # Predicted values\n",
    "         color=\"blue\")"
   ]
  },
  {
   "cell_type": "markdown",
   "metadata": {},
   "source": [
    "## Residual calculation\n",
    "We can extract the model's residuals by making a prediction with the model on the \n",
    "data and then subtracting the actual value from each prediction:"
   ]
  },
  {
   "cell_type": "code",
   "execution_count": 76,
   "metadata": {},
   "outputs": [
    {
     "data": {
      "text/plain": [
       "count    1.047000e+03\n",
       "mean    -2.724141e-11\n",
       "std      4.263705e+04\n",
       "min     -2.507283e+05\n",
       "25%     -2.083217e+04\n",
       "50%     -1.748463e+03\n",
       "75%      1.854249e+04\n",
       "max      2.157009e+05\n",
       "Name: Price, dtype: float64"
      ]
     },
     "execution_count": 76,
     "metadata": {},
     "output_type": "execute_result"
    }
   ],
   "source": [
    "# Actual - prediction = residuals\n",
    "residuals = hsg['Price'] - train_prediction\n",
    "\n",
    "residuals.describe()"
   ]
  },
  {
   "cell_type": "markdown",
   "metadata": {},
   "source": [
    "## How to get R squared\n",
    "\n",
    "R-squared =1 - (SSResiduals/SSTotal)\n",
    "\n",
    "were SSResiduals is the sum of the squares of the model residuals \n",
    "SSTotal = the sum of the squares of the difference between each data point and the mean of the data.\n",
    "\n"
   ]
  },
  {
   "cell_type": "code",
   "execution_count": 110,
   "metadata": {},
   "outputs": [
    {
     "data": {
      "text/plain": [
       "1378964.056690819"
      ]
     },
     "execution_count": 110,
     "metadata": {},
     "output_type": "execute_result"
    }
   ],
   "source": [
    "\n",
    "SSResiduals = (residuals**2).sum()\n",
    "\n",
    "SSResiduals\n",
    "\n"
   ]
  },
  {
   "cell_type": "code",
   "execution_count": 88,
   "metadata": {},
   "outputs": [],
   "source": [
    "SSR=((train_prediction-hsg['Price'].mean())**2).sum()"
   ]
  },
  {
   "cell_type": "code",
   "execution_count": 90,
   "metadata": {},
   "outputs": [
    {
     "data": {
      "text/plain": [
       "4787263161368.609"
      ]
     },
     "execution_count": 90,
     "metadata": {},
     "output_type": "execute_result"
    }
   ],
   "source": [
    "TSS=SSR+SSResiduals\n",
    "TSS"
   ]
  },
  {
   "cell_type": "code",
   "execution_count": 94,
   "metadata": {},
   "outputs": [
    {
     "data": {
      "text/plain": [
       "0.6027914477336614"
      ]
     },
     "execution_count": 94,
     "metadata": {},
     "output_type": "execute_result"
    }
   ],
   "source": [
    "SSR/TSS"
   ]
  },
  {
   "cell_type": "markdown",
   "metadata": {},
   "source": [
    "## Check the normality of residuals\n",
    "\n",
    "In a well-behaved linear regression model, we'd like the residuals to be roughly normally distributed. \n",
    "\n",
    "we'd like a roughly even spread of error above and below the regression line. \n",
    "\n",
    "We can investigate the normality of residuals with a Q-Q (quantile-quantile) plot.\n",
    "\n",
    "\n",
    "We can Make a qqplot by passing the residuals to the stats.probplot() function in the scipy.stats library:\n",
    "\n",
    "When residuals are normally distributed, they tend to lie along the straight line on the Q-Q plot"
   ]
  },
  {
   "cell_type": "code",
   "execution_count": 102,
   "metadata": {
    "scrolled": true
   },
   "outputs": [
    {
     "data": {
      "text/plain": [
       "((array([-3.21080761, -2.94660583, -2.79923536, ...,  2.79923536,\n",
       "          2.94660583,  3.21080761]),\n",
       "  array([-250728.25862689, -225856.68416981, -163191.4755784 , ...,\n",
       "          188837.15628366,  201878.1540114 ,  215700.87656822])),\n",
       " (41381.230651304744, -1.685505304393108e-11, 0.9684184189670919))"
      ]
     },
     "execution_count": 102,
     "metadata": {},
     "output_type": "execute_result"
    },
    {
     "data": {
      "image/png": "[encoded data removed]",
      "text/plain": [
       "<Figure size 648x648 with 1 Axes>"
      ]
     },
     "metadata": {},
     "output_type": "display_data"
    }
   ],
   "source": [
    "from scipy import stats\n",
    "\n",
    "\n",
    "plt.figure(figsize=(9,9))\n",
    "\n",
    "stats.probplot(residuals, dist=\"norm\", plot=plt)"
   ]
  },
  {
   "cell_type": "code",
   "execution_count": 109,
   "metadata": {},
   "outputs": [
    {
     "data": {
      "text/plain": [
       "42616.67920387508"
      ]
     },
     "execution_count": 109,
     "metadata": {},
     "output_type": "execute_result"
    }
   ],
   "source": [
    "\n",
    "from sklearn.metrics import mean_squared_error\n",
    "\n",
    "RMSE = mean_squared_error(train_prediction,hsg['Price'])**0.5\n",
    "\n",
    "RMSE"
   ]
  },
  {
   "cell_type": "code",
   "execution_count": null,
   "metadata": {},
   "outputs": [],
   "source": []
  }
 ],
 "metadata": {
  "kernelspec": {
   "display_name": "Python 3",
   "language": "python",
   "name": "python3"
  },
  "language_info": {
   "codemirror_mode": {
    "name": "ipython",
    "version": 3
   },
   "file_extension": ".py",
   "mimetype": "text/x-python",
   "name": "python",
   "nbconvert_exporter": "python",
   "pygments_lexer": "ipython3",
   "version": "3.6.5"
  }
 },
 "nbformat": 4,
 "nbformat_minor": 2
}
